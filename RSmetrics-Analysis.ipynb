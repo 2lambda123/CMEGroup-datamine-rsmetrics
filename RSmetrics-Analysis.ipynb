{
 "cells": [
  {
   "cell_type": "markdown",
   "metadata": {},
   "source": [
    "# RS Metrics"
   ]
  },
  {
   "cell_type": "markdown",
   "metadata": {},
   "source": [
    "RS Metrics MetalSignals Copper provides data on satellite imagery-based trends and estimates of global copper production and storage. The dataset is based on changes in daily, weekly, monthly, and year-over-year estimated growth in raw materials, as well as finished product stored outside at approximately 100 global copper smelters and storage facilities.\n",
    "https://www.cmegroup.com/market-data/rs-metrics.html\n",
    "\n",
    "Historical data download\n",
    "https://datamine.cmegroup.com/#t=p&p=cme.rsMetrics\n"
   ]
  },
  {
   "cell_type": "markdown",
   "metadata": {},
   "source": [
    "In this blog, we want to introduce RS Metrics data and illustrate possible relationships between RS Metrics data and CME copper futures data.\n",
    "\n",
    "A fundamental assumption in our strategy is an INCREASE raw material observed outside of smelters and storages, we can expect INCREASED production and INCREASED supply, which will lead to price DECREASES in the CME Group Copper futures market.\n",
    "\n",
    "To see if we RS metrics data and futures market changes show any repetitive pattern, we compared long-term and short-term average of raw material observed and we tracked the futures price changes in 4 weeks of the each comparison date.\n"
   ]
  },
  {
   "cell_type": "code",
   "execution_count": 129,
   "metadata": {
    "collapsed": true
   },
   "outputs": [],
   "source": [
    "import pandas as pd\n",
    "import numpy as np\n",
    "import datetime\n",
    "import warnings\n",
    "\n",
    "import matplotlib.pyplot as plt\n",
    "import seaborn as sns\n",
    "plt.style.use('seaborn-deep')\n",
    "\n",
    "%matplotlib inline\n",
    "warnings.filterwarnings(\"ignore\")"
   ]
  },
  {
   "cell_type": "markdown",
   "metadata": {},
   "source": [
    "## Load and Explore the RS Metric Data "
   ]
  },
  {
   "cell_type": "code",
   "execution_count": 130,
   "metadata": {
    "collapsed": false
   },
   "outputs": [
    {
     "data": {
      "text/html": [
       "<div>\n",
       "<style scoped>\n",
       "    .dataframe tbody tr th:only-of-type {\n",
       "        vertical-align: middle;\n",
       "    }\n",
       "\n",
       "    .dataframe tbody tr th {\n",
       "        vertical-align: top;\n",
       "    }\n",
       "\n",
       "    .dataframe thead th {\n",
       "        text-align: right;\n",
       "    }\n",
       "</style>\n",
       "<table border=\"1\" class=\"dataframe\">\n",
       "  <thead>\n",
       "    <tr style=\"text-align: right;\">\n",
       "      <th></th>\n",
       "      <th>Order</th>\n",
       "      <th>Ticker</th>\n",
       "      <th>Type</th>\n",
       "      <th>Name</th>\n",
       "      <th>Location.Type</th>\n",
       "      <th>Smelter.Storage</th>\n",
       "      <th>Metal.Shape</th>\n",
       "      <th>Metal.Type</th>\n",
       "      <th>YearMonthDayUTC</th>\n",
       "      <th>Address</th>\n",
       "      <th>...</th>\n",
       "      <th>Region</th>\n",
       "      <th>Subregion</th>\n",
       "      <th>Latitude</th>\n",
       "      <th>Longitude</th>\n",
       "      <th>DIRECTORY</th>\n",
       "      <th>GMP</th>\n",
       "      <th>Location</th>\n",
       "      <th>Metal</th>\n",
       "      <th>YearMonth</th>\n",
       "      <th>Tot.Area</th>\n",
       "    </tr>\n",
       "  </thead>\n",
       "  <tbody>\n",
       "    <tr>\n",
       "      <th>0</th>\n",
       "      <td>2351</td>\n",
       "      <td>MSS</td>\n",
       "      <td>Shanghai bonded zone</td>\n",
       "      <td>Shanghai bonded zone</td>\n",
       "      <td>Bonded_zone</td>\n",
       "      <td>Storage</td>\n",
       "      <td>ingots/bars</td>\n",
       "      <td>unknown</td>\n",
       "      <td>13JAN01024215</td>\n",
       "      <td>269 Hui Gang Lu</td>\n",
       "      <td>...</td>\n",
       "      <td>NaN</td>\n",
       "      <td>NaN</td>\n",
       "      <td>30.85972</td>\n",
       "      <td>121.88244</td>\n",
       "      <td>IMG_PHR1A_PMS-N_201301010242159_ORT_1857756101...</td>\n",
       "      <td>AB_20160708</td>\n",
       "      <td>Storage</td>\n",
       "      <td>Metal Generals</td>\n",
       "      <td>Jan-13</td>\n",
       "      <td>17917</td>\n",
       "    </tr>\n",
       "    <tr>\n",
       "      <th>1</th>\n",
       "      <td>96</td>\n",
       "      <td>MSS</td>\n",
       "      <td>CMST Development 3</td>\n",
       "      <td>CMST Development 3</td>\n",
       "      <td>Aluminum/STORAGE</td>\n",
       "      <td>Storage</td>\n",
       "      <td>ingots/bars/sheets</td>\n",
       "      <td>aluminum</td>\n",
       "      <td>13JAN01024324</td>\n",
       "      <td>495 Tieshan Road, Baoshan District</td>\n",
       "      <td>...</td>\n",
       "      <td>NaN</td>\n",
       "      <td>NaN</td>\n",
       "      <td>31.39016</td>\n",
       "      <td>121.45346</td>\n",
       "      <td>IMG_PHR1A_P_201301010243244_ORT_2178227101-001...</td>\n",
       "      <td>AB_MSS_20170209</td>\n",
       "      <td>Storage</td>\n",
       "      <td>Aluminum</td>\n",
       "      <td>Jan-13</td>\n",
       "      <td>40182</td>\n",
       "    </tr>\n",
       "    <tr>\n",
       "      <th>2</th>\n",
       "      <td>98</td>\n",
       "      <td>MSS</td>\n",
       "      <td>CMST Development 4</td>\n",
       "      <td>CMST Development 4</td>\n",
       "      <td>Zinc/STORAGE</td>\n",
       "      <td>Storage</td>\n",
       "      <td>ingots/bars/sheets</td>\n",
       "      <td>zinc</td>\n",
       "      <td>13JAN01024324</td>\n",
       "      <td>495 Tieshan Road, Baoshan District</td>\n",
       "      <td>...</td>\n",
       "      <td>NaN</td>\n",
       "      <td>NaN</td>\n",
       "      <td>31.38357</td>\n",
       "      <td>121.45771</td>\n",
       "      <td>IMG_PHR1A_P_201301010243244_ORT_2178227101-001...</td>\n",
       "      <td>AB_MSS_20170209</td>\n",
       "      <td>Storage</td>\n",
       "      <td>Zinc</td>\n",
       "      <td>Jan-13</td>\n",
       "      <td>942</td>\n",
       "    </tr>\n",
       "    <tr>\n",
       "      <th>3</th>\n",
       "      <td>100</td>\n",
       "      <td>MSS</td>\n",
       "      <td>CMST Development 5</td>\n",
       "      <td>CMST Development 5</td>\n",
       "      <td>Copper/STORAGE</td>\n",
       "      <td>Storage</td>\n",
       "      <td>ingots/bars/sheets</td>\n",
       "      <td>copper</td>\n",
       "      <td>13JAN01024324</td>\n",
       "      <td>495 Tieshan Road, Baoshan District</td>\n",
       "      <td>...</td>\n",
       "      <td>NaN</td>\n",
       "      <td>NaN</td>\n",
       "      <td>31.38325</td>\n",
       "      <td>121.45562</td>\n",
       "      <td>IMG_PHR1A_P_201301010243244_ORT_2178227101-001...</td>\n",
       "      <td>AB_MSS_20170209</td>\n",
       "      <td>Storage</td>\n",
       "      <td>Copper</td>\n",
       "      <td>Jan-13</td>\n",
       "      <td>4114</td>\n",
       "    </tr>\n",
       "    <tr>\n",
       "      <th>4</th>\n",
       "      <td>171</td>\n",
       "      <td>MSS</td>\n",
       "      <td>SIPG Logistics Metal Storage ( Shanghai )1</td>\n",
       "      <td>SIPG Logistics Metal Storage ( Shanghai )1</td>\n",
       "      <td>Aluminum/Copper/Zinc/STORAGE</td>\n",
       "      <td>Storage</td>\n",
       "      <td>ingots/bars/sheets</td>\n",
       "      <td>aluminum/copper/zinc</td>\n",
       "      <td>13JAN01024324</td>\n",
       "      <td>240 Anda Road , BaoshanDistrict</td>\n",
       "      <td>...</td>\n",
       "      <td>NaN</td>\n",
       "      <td>NaN</td>\n",
       "      <td>31.36225</td>\n",
       "      <td>121.48766</td>\n",
       "      <td>IMG_PHR1A_P_201301010243244_ORT_2178226101-001...</td>\n",
       "      <td>AB_MSS_20170209</td>\n",
       "      <td>Storage</td>\n",
       "      <td>Metal Generals</td>\n",
       "      <td>Jan-13</td>\n",
       "      <td>48280</td>\n",
       "    </tr>\n",
       "  </tbody>\n",
       "</table>\n",
       "<p>5 rows × 43 columns</p>\n",
       "</div>"
      ],
      "text/plain": [
       "   Order Ticker                                        Type  \\\n",
       "0   2351    MSS                        Shanghai bonded zone   \n",
       "1     96    MSS                          CMST Development 3   \n",
       "2     98    MSS                          CMST Development 4   \n",
       "3    100    MSS                          CMST Development 5   \n",
       "4    171    MSS  SIPG Logistics Metal Storage ( Shanghai )1   \n",
       "\n",
       "                                         Name                 Location.Type  \\\n",
       "0                        Shanghai bonded zone                   Bonded_zone   \n",
       "1                          CMST Development 3              Aluminum/STORAGE   \n",
       "2                          CMST Development 4                  Zinc/STORAGE   \n",
       "3                          CMST Development 5                Copper/STORAGE   \n",
       "4  SIPG Logistics Metal Storage ( Shanghai )1  Aluminum/Copper/Zinc/STORAGE   \n",
       "\n",
       "  Smelter.Storage         Metal.Shape            Metal.Type YearMonthDayUTC  \\\n",
       "0         Storage         ingots/bars               unknown   13JAN01024215   \n",
       "1         Storage  ingots/bars/sheets              aluminum   13JAN01024324   \n",
       "2         Storage  ingots/bars/sheets                  zinc   13JAN01024324   \n",
       "3         Storage  ingots/bars/sheets                copper   13JAN01024324   \n",
       "4         Storage  ingots/bars/sheets  aluminum/copper/zinc   13JAN01024324   \n",
       "\n",
       "                              Address    ...    Region Subregion  Latitude  \\\n",
       "0                     269 Hui Gang Lu    ...       NaN       NaN  30.85972   \n",
       "1  495 Tieshan Road, Baoshan District    ...       NaN       NaN  31.39016   \n",
       "2  495 Tieshan Road, Baoshan District    ...       NaN       NaN  31.38357   \n",
       "3  495 Tieshan Road, Baoshan District    ...       NaN       NaN  31.38325   \n",
       "4     240 Anda Road , BaoshanDistrict    ...       NaN       NaN  31.36225   \n",
       "\n",
       "   Longitude                                          DIRECTORY  \\\n",
       "0  121.88244  IMG_PHR1A_PMS-N_201301010242159_ORT_1857756101...   \n",
       "1  121.45346  IMG_PHR1A_P_201301010243244_ORT_2178227101-001...   \n",
       "2  121.45771  IMG_PHR1A_P_201301010243244_ORT_2178227101-001...   \n",
       "3  121.45562  IMG_PHR1A_P_201301010243244_ORT_2178227101-001...   \n",
       "4  121.48766  IMG_PHR1A_P_201301010243244_ORT_2178226101-001...   \n",
       "\n",
       "               GMP  Location           Metal  YearMonth  Tot.Area  \n",
       "0      AB_20160708   Storage  Metal Generals     Jan-13     17917  \n",
       "1  AB_MSS_20170209   Storage        Aluminum     Jan-13     40182  \n",
       "2  AB_MSS_20170209   Storage            Zinc     Jan-13       942  \n",
       "3  AB_MSS_20170209   Storage          Copper     Jan-13      4114  \n",
       "4  AB_MSS_20170209   Storage  Metal Generals     Jan-13     48280  \n",
       "\n",
       "[5 rows x 43 columns]"
      ]
     },
     "execution_count": 130,
     "metadata": {},
     "output_type": "execute_result"
    }
   ],
   "source": [
    "df_data = pd.read_csv('./data/Base_Metals_Data.csv', encoding='latin1',)\n",
    "df_data.head()"
   ]
  },
  {
   "cell_type": "markdown",
   "metadata": {},
   "source": [
    "There are a number of Columns in the data"
   ]
  },
  {
   "cell_type": "code",
   "execution_count": 131,
   "metadata": {
    "collapsed": false
   },
   "outputs": [
    {
     "data": {
      "text/plain": [
       "Index(['Order', 'Ticker', 'Type', 'Name', 'Location.Type', 'Smelter.Storage',\n",
       "       'Metal.Shape', 'Metal.Type', 'YearMonthDayUTC', 'Address', 'City',\n",
       "       'State', 'Zip', 'Country', 'Employee.Cars', 'Containers', 'Trucks',\n",
       "       'Tippers', 'Total.Area.Metal.stocks.m2', 'Area.Piles.m2',\n",
       "       'Area.Concentrate.Bags.m2', 'Area.Cathodes.m2', 'Area.Anodes.m2',\n",
       "       'Comments', 'Notes', 'Time_Date', 'Time', 'Month', 'Day', 'Year',\n",
       "       'PrePost', 'DOW', 'Week.End', 'Region', 'Subregion', 'Latitude',\n",
       "       'Longitude', 'DIRECTORY', 'GMP', 'Location', 'Metal', 'YearMonth',\n",
       "       'Tot.Area'],\n",
       "      dtype='object')"
      ]
     },
     "execution_count": 131,
     "metadata": {},
     "output_type": "execute_result"
    }
   ],
   "source": [
    "df_data.columns"
   ]
  },
  {
   "cell_type": "code",
   "execution_count": 132,
   "metadata": {
    "collapsed": false
   },
   "outputs": [
    {
     "data": {
      "text/html": [
       "<div>\n",
       "<style scoped>\n",
       "    .dataframe tbody tr th:only-of-type {\n",
       "        vertical-align: middle;\n",
       "    }\n",
       "\n",
       "    .dataframe tbody tr th {\n",
       "        vertical-align: top;\n",
       "    }\n",
       "\n",
       "    .dataframe thead th {\n",
       "        text-align: right;\n",
       "    }\n",
       "</style>\n",
       "<table border=\"1\" class=\"dataframe\">\n",
       "  <thead>\n",
       "    <tr style=\"text-align: right;\">\n",
       "      <th></th>\n",
       "      <th>Order</th>\n",
       "      <th>Employee.Cars</th>\n",
       "      <th>Containers</th>\n",
       "      <th>Trucks</th>\n",
       "      <th>Tippers</th>\n",
       "      <th>Total.Area.Metal.stocks.m2</th>\n",
       "      <th>Area.Piles.m2</th>\n",
       "      <th>Area.Concentrate.Bags.m2</th>\n",
       "      <th>Area.Cathodes.m2</th>\n",
       "      <th>Area.Anodes.m2</th>\n",
       "      <th>Month</th>\n",
       "      <th>Day</th>\n",
       "      <th>Year</th>\n",
       "      <th>DOW</th>\n",
       "      <th>Week.End</th>\n",
       "      <th>Latitude</th>\n",
       "      <th>Longitude</th>\n",
       "      <th>Tot.Area</th>\n",
       "    </tr>\n",
       "  </thead>\n",
       "  <tbody>\n",
       "    <tr>\n",
       "      <th>count</th>\n",
       "      <td>12356.000000</td>\n",
       "      <td>8681.000000</td>\n",
       "      <td>8681.000000</td>\n",
       "      <td>8681.000000</td>\n",
       "      <td>8680.000000</td>\n",
       "      <td>12356.000000</td>\n",
       "      <td>3738.000000</td>\n",
       "      <td>976.000000</td>\n",
       "      <td>122.000000</td>\n",
       "      <td>75.000000</td>\n",
       "      <td>12356.000000</td>\n",
       "      <td>12356.000000</td>\n",
       "      <td>12356.000000</td>\n",
       "      <td>12356.000000</td>\n",
       "      <td>12356.000000</td>\n",
       "      <td>12356.000000</td>\n",
       "      <td>12356.000000</td>\n",
       "      <td>12356.000000</td>\n",
       "    </tr>\n",
       "    <tr>\n",
       "      <th>mean</th>\n",
       "      <td>1847.982357</td>\n",
       "      <td>75.170372</td>\n",
       "      <td>76.036977</td>\n",
       "      <td>5.407211</td>\n",
       "      <td>2.348502</td>\n",
       "      <td>12761.595338</td>\n",
       "      <td>4338.090423</td>\n",
       "      <td>1899.533811</td>\n",
       "      <td>2144.614754</td>\n",
       "      <td>1386.866667</td>\n",
       "      <td>6.699417</td>\n",
       "      <td>15.897378</td>\n",
       "      <td>2015.353674</td>\n",
       "      <td>4.028893</td>\n",
       "      <td>0.288119</td>\n",
       "      <td>23.976696</td>\n",
       "      <td>39.701667</td>\n",
       "      <td>12761.595338</td>\n",
       "    </tr>\n",
       "    <tr>\n",
       "      <th>std</th>\n",
       "      <td>2274.563978</td>\n",
       "      <td>131.438360</td>\n",
       "      <td>190.860634</td>\n",
       "      <td>14.243850</td>\n",
       "      <td>7.630697</td>\n",
       "      <td>30982.471150</td>\n",
       "      <td>7888.267416</td>\n",
       "      <td>2990.625240</td>\n",
       "      <td>4689.135541</td>\n",
       "      <td>1424.619905</td>\n",
       "      <td>3.459819</td>\n",
       "      <td>8.842787</td>\n",
       "      <td>1.455906</td>\n",
       "      <td>2.000864</td>\n",
       "      <td>0.452905</td>\n",
       "      <td>29.109421</td>\n",
       "      <td>84.691967</td>\n",
       "      <td>30982.471150</td>\n",
       "    </tr>\n",
       "    <tr>\n",
       "      <th>min</th>\n",
       "      <td>1.000000</td>\n",
       "      <td>0.000000</td>\n",
       "      <td>0.000000</td>\n",
       "      <td>0.000000</td>\n",
       "      <td>0.000000</td>\n",
       "      <td>14.000000</td>\n",
       "      <td>34.000000</td>\n",
       "      <td>25.000000</td>\n",
       "      <td>45.000000</td>\n",
       "      <td>65.000000</td>\n",
       "      <td>1.000000</td>\n",
       "      <td>1.000000</td>\n",
       "      <td>2013.000000</td>\n",
       "      <td>1.000000</td>\n",
       "      <td>0.000000</td>\n",
       "      <td>-46.590960</td>\n",
       "      <td>-128.694790</td>\n",
       "      <td>14.000000</td>\n",
       "    </tr>\n",
       "    <tr>\n",
       "      <th>25%</th>\n",
       "      <td>179.000000</td>\n",
       "      <td>9.000000</td>\n",
       "      <td>3.000000</td>\n",
       "      <td>0.000000</td>\n",
       "      <td>0.000000</td>\n",
       "      <td>2371.000000</td>\n",
       "      <td>795.250000</td>\n",
       "      <td>323.500000</td>\n",
       "      <td>353.000000</td>\n",
       "      <td>497.500000</td>\n",
       "      <td>4.000000</td>\n",
       "      <td>8.000000</td>\n",
       "      <td>2014.000000</td>\n",
       "      <td>2.000000</td>\n",
       "      <td>0.000000</td>\n",
       "      <td>20.832120</td>\n",
       "      <td>-22.029770</td>\n",
       "      <td>2371.000000</td>\n",
       "    </tr>\n",
       "    <tr>\n",
       "      <th>50%</th>\n",
       "      <td>539.000000</td>\n",
       "      <td>30.000000</td>\n",
       "      <td>12.000000</td>\n",
       "      <td>2.000000</td>\n",
       "      <td>0.000000</td>\n",
       "      <td>5520.000000</td>\n",
       "      <td>1942.000000</td>\n",
       "      <td>753.000000</td>\n",
       "      <td>1184.500000</td>\n",
       "      <td>985.000000</td>\n",
       "      <td>7.000000</td>\n",
       "      <td>16.000000</td>\n",
       "      <td>2016.000000</td>\n",
       "      <td>4.000000</td>\n",
       "      <td>0.000000</td>\n",
       "      <td>33.049980</td>\n",
       "      <td>51.575450</td>\n",
       "      <td>5520.000000</td>\n",
       "    </tr>\n",
       "    <tr>\n",
       "      <th>75%</th>\n",
       "      <td>3302.250000</td>\n",
       "      <td>79.000000</td>\n",
       "      <td>48.000000</td>\n",
       "      <td>6.000000</td>\n",
       "      <td>2.000000</td>\n",
       "      <td>13261.000000</td>\n",
       "      <td>4668.000000</td>\n",
       "      <td>1823.250000</td>\n",
       "      <td>1747.500000</td>\n",
       "      <td>1744.000000</td>\n",
       "      <td>10.000000</td>\n",
       "      <td>24.000000</td>\n",
       "      <td>2017.000000</td>\n",
       "      <td>6.000000</td>\n",
       "      <td>1.000000</td>\n",
       "      <td>43.050270</td>\n",
       "      <td>120.999440</td>\n",
       "      <td>13261.000000</td>\n",
       "    </tr>\n",
       "    <tr>\n",
       "      <th>max</th>\n",
       "      <td>7665.000000</td>\n",
       "      <td>2751.000000</td>\n",
       "      <td>2028.000000</td>\n",
       "      <td>345.000000</td>\n",
       "      <td>171.000000</td>\n",
       "      <td>714831.000000</td>\n",
       "      <td>129009.000000</td>\n",
       "      <td>30303.000000</td>\n",
       "      <td>31121.000000</td>\n",
       "      <td>6076.000000</td>\n",
       "      <td>12.000000</td>\n",
       "      <td>31.000000</td>\n",
       "      <td>2017.000000</td>\n",
       "      <td>7.000000</td>\n",
       "      <td>1.000000</td>\n",
       "      <td>69.362090</td>\n",
       "      <td>168.383190</td>\n",
       "      <td>714831.000000</td>\n",
       "    </tr>\n",
       "  </tbody>\n",
       "</table>\n",
       "</div>"
      ],
      "text/plain": [
       "              Order  Employee.Cars   Containers       Trucks      Tippers  \\\n",
       "count  12356.000000    8681.000000  8681.000000  8681.000000  8680.000000   \n",
       "mean    1847.982357      75.170372    76.036977     5.407211     2.348502   \n",
       "std     2274.563978     131.438360   190.860634    14.243850     7.630697   \n",
       "min        1.000000       0.000000     0.000000     0.000000     0.000000   \n",
       "25%      179.000000       9.000000     3.000000     0.000000     0.000000   \n",
       "50%      539.000000      30.000000    12.000000     2.000000     0.000000   \n",
       "75%     3302.250000      79.000000    48.000000     6.000000     2.000000   \n",
       "max     7665.000000    2751.000000  2028.000000   345.000000   171.000000   \n",
       "\n",
       "       Total.Area.Metal.stocks.m2  Area.Piles.m2  Area.Concentrate.Bags.m2  \\\n",
       "count                12356.000000    3738.000000                976.000000   \n",
       "mean                 12761.595338    4338.090423               1899.533811   \n",
       "std                  30982.471150    7888.267416               2990.625240   \n",
       "min                     14.000000      34.000000                 25.000000   \n",
       "25%                   2371.000000     795.250000                323.500000   \n",
       "50%                   5520.000000    1942.000000                753.000000   \n",
       "75%                  13261.000000    4668.000000               1823.250000   \n",
       "max                 714831.000000  129009.000000              30303.000000   \n",
       "\n",
       "       Area.Cathodes.m2  Area.Anodes.m2         Month           Day  \\\n",
       "count        122.000000       75.000000  12356.000000  12356.000000   \n",
       "mean        2144.614754     1386.866667      6.699417     15.897378   \n",
       "std         4689.135541     1424.619905      3.459819      8.842787   \n",
       "min           45.000000       65.000000      1.000000      1.000000   \n",
       "25%          353.000000      497.500000      4.000000      8.000000   \n",
       "50%         1184.500000      985.000000      7.000000     16.000000   \n",
       "75%         1747.500000     1744.000000     10.000000     24.000000   \n",
       "max        31121.000000     6076.000000     12.000000     31.000000   \n",
       "\n",
       "               Year           DOW      Week.End      Latitude     Longitude  \\\n",
       "count  12356.000000  12356.000000  12356.000000  12356.000000  12356.000000   \n",
       "mean    2015.353674      4.028893      0.288119     23.976696     39.701667   \n",
       "std        1.455906      2.000864      0.452905     29.109421     84.691967   \n",
       "min     2013.000000      1.000000      0.000000    -46.590960   -128.694790   \n",
       "25%     2014.000000      2.000000      0.000000     20.832120    -22.029770   \n",
       "50%     2016.000000      4.000000      0.000000     33.049980     51.575450   \n",
       "75%     2017.000000      6.000000      1.000000     43.050270    120.999440   \n",
       "max     2017.000000      7.000000      1.000000     69.362090    168.383190   \n",
       "\n",
       "            Tot.Area  \n",
       "count   12356.000000  \n",
       "mean    12761.595338  \n",
       "std     30982.471150  \n",
       "min        14.000000  \n",
       "25%      2371.000000  \n",
       "50%      5520.000000  \n",
       "75%     13261.000000  \n",
       "max    714831.000000  "
      ]
     },
     "execution_count": 132,
     "metadata": {},
     "output_type": "execute_result"
    }
   ],
   "source": [
    "df_data.describe()"
   ]
  },
  {
   "cell_type": "markdown",
   "metadata": {},
   "source": [
    "## Initial Modeling "
   ]
  },
  {
   "cell_type": "markdown",
   "metadata": {},
   "source": [
    "RS Metrics provides aluminum, zinc, copper data and etc. In this analysis we will use 'metal general' and 'copper' to observe outside of both smelters and storages globally. "
   ]
  },
  {
   "cell_type": "code",
   "execution_count": 133,
   "metadata": {
    "collapsed": false
   },
   "outputs": [
    {
     "data": {
      "text/plain": [
       "array(['Metal Generals', 'Aluminum', 'Zinc', 'Copper'], dtype=object)"
      ]
     },
     "execution_count": 133,
     "metadata": {},
     "output_type": "execute_result"
    }
   ],
   "source": [
    "df_data['Metal'].unique()"
   ]
  },
  {
   "cell_type": "code",
   "execution_count": 139,
   "metadata": {
    "collapsed": true
   },
   "outputs": [],
   "source": [
    "Metal = ['Copper','Metal Generals']\n",
    "SmSt = ['Smelter','Storage']\n",
    "\n",
    "rs_metrics_selected_df = df_data.loc[  (df_data['Metal'].isin(Metal)) \n",
    "                          & (df_data['Smelter.Storage'].isin(SmSt)) ]"
   ]
  },
  {
   "cell_type": "code",
   "execution_count": 140,
   "metadata": {
    "collapsed": false
   },
   "outputs": [
    {
     "data": {
      "text/html": [
       "<div>\n",
       "<style scoped>\n",
       "    .dataframe tbody tr th:only-of-type {\n",
       "        vertical-align: middle;\n",
       "    }\n",
       "\n",
       "    .dataframe tbody tr th {\n",
       "        vertical-align: top;\n",
       "    }\n",
       "\n",
       "    .dataframe thead th {\n",
       "        text-align: right;\n",
       "    }\n",
       "</style>\n",
       "<table border=\"1\" class=\"dataframe\">\n",
       "  <thead>\n",
       "    <tr style=\"text-align: right;\">\n",
       "      <th></th>\n",
       "      <th>Order</th>\n",
       "      <th>Ticker</th>\n",
       "      <th>Type</th>\n",
       "      <th>Name</th>\n",
       "      <th>Location.Type</th>\n",
       "      <th>Smelter.Storage</th>\n",
       "      <th>Metal.Shape</th>\n",
       "      <th>Metal.Type</th>\n",
       "      <th>YearMonthDayUTC</th>\n",
       "      <th>Address</th>\n",
       "      <th>...</th>\n",
       "      <th>Region</th>\n",
       "      <th>Subregion</th>\n",
       "      <th>Latitude</th>\n",
       "      <th>Longitude</th>\n",
       "      <th>DIRECTORY</th>\n",
       "      <th>GMP</th>\n",
       "      <th>Location</th>\n",
       "      <th>Metal</th>\n",
       "      <th>YearMonth</th>\n",
       "      <th>Tot.Area</th>\n",
       "    </tr>\n",
       "  </thead>\n",
       "  <tbody>\n",
       "    <tr>\n",
       "      <th>0</th>\n",
       "      <td>2351</td>\n",
       "      <td>MSS</td>\n",
       "      <td>Shanghai bonded zone</td>\n",
       "      <td>Shanghai bonded zone</td>\n",
       "      <td>Bonded_zone</td>\n",
       "      <td>Storage</td>\n",
       "      <td>ingots/bars</td>\n",
       "      <td>unknown</td>\n",
       "      <td>13JAN01024215</td>\n",
       "      <td>269 Hui Gang Lu</td>\n",
       "      <td>...</td>\n",
       "      <td>NaN</td>\n",
       "      <td>NaN</td>\n",
       "      <td>30.85972</td>\n",
       "      <td>121.88244</td>\n",
       "      <td>IMG_PHR1A_PMS-N_201301010242159_ORT_1857756101...</td>\n",
       "      <td>AB_20160708</td>\n",
       "      <td>Storage</td>\n",
       "      <td>Metal Generals</td>\n",
       "      <td>Jan-13</td>\n",
       "      <td>17917</td>\n",
       "    </tr>\n",
       "    <tr>\n",
       "      <th>3</th>\n",
       "      <td>100</td>\n",
       "      <td>MSS</td>\n",
       "      <td>CMST Development 5</td>\n",
       "      <td>CMST Development 5</td>\n",
       "      <td>Copper/STORAGE</td>\n",
       "      <td>Storage</td>\n",
       "      <td>ingots/bars/sheets</td>\n",
       "      <td>copper</td>\n",
       "      <td>13JAN01024324</td>\n",
       "      <td>495 Tieshan Road, Baoshan District</td>\n",
       "      <td>...</td>\n",
       "      <td>NaN</td>\n",
       "      <td>NaN</td>\n",
       "      <td>31.38325</td>\n",
       "      <td>121.45562</td>\n",
       "      <td>IMG_PHR1A_P_201301010243244_ORT_2178227101-001...</td>\n",
       "      <td>AB_MSS_20170209</td>\n",
       "      <td>Storage</td>\n",
       "      <td>Copper</td>\n",
       "      <td>Jan-13</td>\n",
       "      <td>4114</td>\n",
       "    </tr>\n",
       "    <tr>\n",
       "      <th>4</th>\n",
       "      <td>171</td>\n",
       "      <td>MSS</td>\n",
       "      <td>SIPG Logistics Metal Storage ( Shanghai )1</td>\n",
       "      <td>SIPG Logistics Metal Storage ( Shanghai )1</td>\n",
       "      <td>Aluminum/Copper/Zinc/STORAGE</td>\n",
       "      <td>Storage</td>\n",
       "      <td>ingots/bars/sheets</td>\n",
       "      <td>aluminum/copper/zinc</td>\n",
       "      <td>13JAN01024324</td>\n",
       "      <td>240 Anda Road , BaoshanDistrict</td>\n",
       "      <td>...</td>\n",
       "      <td>NaN</td>\n",
       "      <td>NaN</td>\n",
       "      <td>31.36225</td>\n",
       "      <td>121.48766</td>\n",
       "      <td>IMG_PHR1A_P_201301010243244_ORT_2178226101-001...</td>\n",
       "      <td>AB_MSS_20170209</td>\n",
       "      <td>Storage</td>\n",
       "      <td>Metal Generals</td>\n",
       "      <td>Jan-13</td>\n",
       "      <td>48280</td>\n",
       "    </tr>\n",
       "    <tr>\n",
       "      <th>5</th>\n",
       "      <td>173</td>\n",
       "      <td>MSS</td>\n",
       "      <td>SIPG Logistics Metal Storage ( Shanghai )2</td>\n",
       "      <td>SIPG Logistics Metal Storage ( Shanghai )2</td>\n",
       "      <td>Aluminum/Copper/Zinc/STORAGE</td>\n",
       "      <td>Storage</td>\n",
       "      <td>ingots/bars/sheets</td>\n",
       "      <td>aluminum/copper/zinc</td>\n",
       "      <td>13JAN01024324</td>\n",
       "      <td>4049 Jungong Road , Boashan district</td>\n",
       "      <td>...</td>\n",
       "      <td>NaN</td>\n",
       "      <td>NaN</td>\n",
       "      <td>31.34724</td>\n",
       "      <td>121.51265</td>\n",
       "      <td>IMG_PHR1A_P_201301010243244_ORT_2178226101-001...</td>\n",
       "      <td>AB_MSS_20170209</td>\n",
       "      <td>Storage</td>\n",
       "      <td>Metal Generals</td>\n",
       "      <td>Jan-13</td>\n",
       "      <td>6525</td>\n",
       "    </tr>\n",
       "    <tr>\n",
       "      <th>6</th>\n",
       "      <td>175</td>\n",
       "      <td>MSS</td>\n",
       "      <td>Shanghai Beijiao Railway</td>\n",
       "      <td>Shanghai Beijiao Railway</td>\n",
       "      <td>Aluminum/Copper/Zinc/STORAGE</td>\n",
       "      <td>Storage</td>\n",
       "      <td>ingots/bars/sheets</td>\n",
       "      <td>aluminum/copper/zinc</td>\n",
       "      <td>13JAN01024324</td>\n",
       "      <td>3501 Gonghexin Road</td>\n",
       "      <td>...</td>\n",
       "      <td>NaN</td>\n",
       "      <td>NaN</td>\n",
       "      <td>31.30470</td>\n",
       "      <td>121.45550</td>\n",
       "      <td>IMG_PHR1A_P_201301010243244_ORT_2178225101-001...</td>\n",
       "      <td>AB_MSS_20170209</td>\n",
       "      <td>Storage</td>\n",
       "      <td>Metal Generals</td>\n",
       "      <td>Jan-13</td>\n",
       "      <td>9709</td>\n",
       "    </tr>\n",
       "  </tbody>\n",
       "</table>\n",
       "<p>5 rows × 43 columns</p>\n",
       "</div>"
      ],
      "text/plain": [
       "   Order Ticker                                        Type  \\\n",
       "0   2351    MSS                        Shanghai bonded zone   \n",
       "3    100    MSS                          CMST Development 5   \n",
       "4    171    MSS  SIPG Logistics Metal Storage ( Shanghai )1   \n",
       "5    173    MSS  SIPG Logistics Metal Storage ( Shanghai )2   \n",
       "6    175    MSS                    Shanghai Beijiao Railway   \n",
       "\n",
       "                                         Name                 Location.Type  \\\n",
       "0                        Shanghai bonded zone                   Bonded_zone   \n",
       "3                          CMST Development 5                Copper/STORAGE   \n",
       "4  SIPG Logistics Metal Storage ( Shanghai )1  Aluminum/Copper/Zinc/STORAGE   \n",
       "5  SIPG Logistics Metal Storage ( Shanghai )2  Aluminum/Copper/Zinc/STORAGE   \n",
       "6                    Shanghai Beijiao Railway  Aluminum/Copper/Zinc/STORAGE   \n",
       "\n",
       "  Smelter.Storage         Metal.Shape            Metal.Type YearMonthDayUTC  \\\n",
       "0         Storage         ingots/bars               unknown   13JAN01024215   \n",
       "3         Storage  ingots/bars/sheets                copper   13JAN01024324   \n",
       "4         Storage  ingots/bars/sheets  aluminum/copper/zinc   13JAN01024324   \n",
       "5         Storage  ingots/bars/sheets  aluminum/copper/zinc   13JAN01024324   \n",
       "6         Storage  ingots/bars/sheets  aluminum/copper/zinc   13JAN01024324   \n",
       "\n",
       "                                Address    ...    Region Subregion  Latitude  \\\n",
       "0                       269 Hui Gang Lu    ...       NaN       NaN  30.85972   \n",
       "3    495 Tieshan Road, Baoshan District    ...       NaN       NaN  31.38325   \n",
       "4       240 Anda Road , BaoshanDistrict    ...       NaN       NaN  31.36225   \n",
       "5  4049 Jungong Road , Boashan district    ...       NaN       NaN  31.34724   \n",
       "6                   3501 Gonghexin Road    ...       NaN       NaN  31.30470   \n",
       "\n",
       "   Longitude                                          DIRECTORY  \\\n",
       "0  121.88244  IMG_PHR1A_PMS-N_201301010242159_ORT_1857756101...   \n",
       "3  121.45562  IMG_PHR1A_P_201301010243244_ORT_2178227101-001...   \n",
       "4  121.48766  IMG_PHR1A_P_201301010243244_ORT_2178226101-001...   \n",
       "5  121.51265  IMG_PHR1A_P_201301010243244_ORT_2178226101-001...   \n",
       "6  121.45550  IMG_PHR1A_P_201301010243244_ORT_2178225101-001...   \n",
       "\n",
       "               GMP  Location           Metal  YearMonth  Tot.Area  \n",
       "0      AB_20160708   Storage  Metal Generals     Jan-13     17917  \n",
       "3  AB_MSS_20170209   Storage          Copper     Jan-13      4114  \n",
       "4  AB_MSS_20170209   Storage  Metal Generals     Jan-13     48280  \n",
       "5  AB_MSS_20170209   Storage  Metal Generals     Jan-13      6525  \n",
       "6  AB_MSS_20170209   Storage  Metal Generals     Jan-13      9709  \n",
       "\n",
       "[5 rows x 43 columns]"
      ]
     },
     "execution_count": 140,
     "metadata": {},
     "output_type": "execute_result"
    }
   ],
   "source": [
    "rs_metrics_selected_df.head()"
   ]
  },
  {
   "cell_type": "markdown",
   "metadata": {},
   "source": [
    "### Data Resampling\n",
    "\n",
    "To support our analysis, we will convert the observations for Tot.Area which are generally daily, into a weekly average. This should help smooth variability in observation measurements.  This is an area that could be extensively explored to optimize handling of daily measurement variablity into aggregates that provide insights about the storage levels of these metals.  \n",
    "\n",
    "RS Metrics measurment date is contained in the 'Notes' column. We will convert that to a proper time series as well as give it a more descriptive column name of 'ObservationDate'\n"
   ]
  },
  {
   "cell_type": "code",
   "execution_count": 141,
   "metadata": {
    "collapsed": true
   },
   "outputs": [],
   "source": [
    "#RS Metrics measurment data is contained in the 'Notes' column; we will convert that to a proper time series\n",
    "rs_metrics_selected_df.loc[:,'Notes'] = pd.to_datetime(rs_metrics_selected_df.loc[:,'Notes'])\n",
    "rs_metrics_selected_df.rename(columns={'Notes':'ObservationDate'}, inplace=True)\n",
    "\n",
    "#Limit to only columns we are interested in at this point.\n",
    "rs_metrics_final_df = rs_metrics_selected_df[['Tot.Area','ObservationDate']]\n",
    "rs_metrics_selected_df.set_index('ObservationDate',inplace=True)"
   ]
  },
  {
   "cell_type": "code",
   "execution_count": 142,
   "metadata": {
    "collapsed": false
   },
   "outputs": [
    {
     "data": {
      "text/html": [
       "<div>\n",
       "<style scoped>\n",
       "    .dataframe tbody tr th:only-of-type {\n",
       "        vertical-align: middle;\n",
       "    }\n",
       "\n",
       "    .dataframe tbody tr th {\n",
       "        vertical-align: top;\n",
       "    }\n",
       "\n",
       "    .dataframe thead th {\n",
       "        text-align: right;\n",
       "    }\n",
       "</style>\n",
       "<table border=\"1\" class=\"dataframe\">\n",
       "  <thead>\n",
       "    <tr style=\"text-align: right;\">\n",
       "      <th></th>\n",
       "      <th>Tot.Area</th>\n",
       "    </tr>\n",
       "    <tr>\n",
       "      <th>ObservationDate</th>\n",
       "      <th></th>\n",
       "    </tr>\n",
       "  </thead>\n",
       "  <tbody>\n",
       "    <tr>\n",
       "      <th>2013-01-06</th>\n",
       "      <td>21549.230769</td>\n",
       "    </tr>\n",
       "    <tr>\n",
       "      <th>2013-01-13</th>\n",
       "      <td>11711.444444</td>\n",
       "    </tr>\n",
       "    <tr>\n",
       "      <th>2013-01-20</th>\n",
       "      <td>19983.000000</td>\n",
       "    </tr>\n",
       "    <tr>\n",
       "      <th>2013-01-27</th>\n",
       "      <td>23015.666667</td>\n",
       "    </tr>\n",
       "    <tr>\n",
       "      <th>2013-02-03</th>\n",
       "      <td>9360.000000</td>\n",
       "    </tr>\n",
       "  </tbody>\n",
       "</table>\n",
       "</div>"
      ],
      "text/plain": [
       "                     Tot.Area\n",
       "ObservationDate              \n",
       "2013-01-06       21549.230769\n",
       "2013-01-13       11711.444444\n",
       "2013-01-20       19983.000000\n",
       "2013-01-27       23015.666667\n",
       "2013-02-03        9360.000000"
      ]
     },
     "execution_count": 142,
     "metadata": {},
     "output_type": "execute_result"
    }
   ],
   "source": [
    "#resampling to \n",
    "rs_metrics_area_df= pd.DataFrame(rs_metrics_selected_df['Tot.Area'].resample('W').mean())\n",
    "rs_metrics_area_df.replace(0,np.nan, inplace=True)\n",
    "rs_metrics_area_df.head()"
   ]
  },
  {
   "cell_type": "code",
   "execution_count": 144,
   "metadata": {
    "collapsed": false
   },
   "outputs": [
    {
     "data": {
      "image/png": "[encoded data removed]",
      "text/plain": [
       "<Figure size 1080x360 with 1 Axes>"
      ]
     },
     "metadata": {
      "needs_background": "light"
     },
     "output_type": "display_data"
    }
   ],
   "source": [
    "rs_metrics_area_df.plot(figsize=[15,5], title='RS Metrics Total Area for Selected Metals');"
   ]
  },
  {
   "cell_type": "markdown",
   "metadata": {},
   "source": [
    "## Load CME Copper Future Settlements Prices\n",
    "\n",
    "We will load the Copper Future Settlement Prices for the first nearby contract month and convert those into weekly average prices to align with the RS Metrics data."
   ]
  },
  {
   "cell_type": "code",
   "execution_count": 145,
   "metadata": {
    "collapsed": true
   },
   "outputs": [],
   "source": [
    "settlements_df = pd.read_csv('./data/copperprice.csv', index_col='date', parse_dates=True )"
   ]
  },
  {
   "cell_type": "code",
   "execution_count": 146,
   "metadata": {
    "collapsed": false
   },
   "outputs": [
    {
     "data": {
      "text/html": [
       "<div>\n",
       "<style scoped>\n",
       "    .dataframe tbody tr th:only-of-type {\n",
       "        vertical-align: middle;\n",
       "    }\n",
       "\n",
       "    .dataframe tbody tr th {\n",
       "        vertical-align: top;\n",
       "    }\n",
       "\n",
       "    .dataframe thead th {\n",
       "        text-align: right;\n",
       "    }\n",
       "</style>\n",
       "<table border=\"1\" class=\"dataframe\">\n",
       "  <thead>\n",
       "    <tr style=\"text-align: right;\">\n",
       "      <th></th>\n",
       "      <th>copper 1st nb</th>\n",
       "    </tr>\n",
       "    <tr>\n",
       "      <th>date</th>\n",
       "      <th></th>\n",
       "    </tr>\n",
       "  </thead>\n",
       "  <tbody>\n",
       "    <tr>\n",
       "      <th>2013-01-06</th>\n",
       "      <td>3.7155</td>\n",
       "    </tr>\n",
       "    <tr>\n",
       "      <th>2013-01-13</th>\n",
       "      <td>3.6767</td>\n",
       "    </tr>\n",
       "    <tr>\n",
       "      <th>2013-01-20</th>\n",
       "      <td>3.6438</td>\n",
       "    </tr>\n",
       "    <tr>\n",
       "      <th>2013-01-27</th>\n",
       "      <td>3.6795</td>\n",
       "    </tr>\n",
       "    <tr>\n",
       "      <th>2013-02-03</th>\n",
       "      <td>3.7239</td>\n",
       "    </tr>\n",
       "  </tbody>\n",
       "</table>\n",
       "</div>"
      ],
      "text/plain": [
       "            copper 1st nb\n",
       "date                     \n",
       "2013-01-06         3.7155\n",
       "2013-01-13         3.6767\n",
       "2013-01-20         3.6438\n",
       "2013-01-27         3.6795\n",
       "2013-02-03         3.7239"
      ]
     },
     "execution_count": 146,
     "metadata": {},
     "output_type": "execute_result"
    }
   ],
   "source": [
    "settlements_df = settlements_df.resample('W').mean()\n",
    "settlements_df.head()"
   ]
  },
  {
   "cell_type": "code",
   "execution_count": 147,
   "metadata": {
    "collapsed": false
   },
   "outputs": [
    {
     "data": {
      "image/png": "[encoded data removed]",
      "text/plain": [
       "<Figure size 1080x360 with 1 Axes>"
      ]
     },
     "metadata": {
      "needs_background": "light"
     },
     "output_type": "display_data"
    }
   ],
   "source": [
    "settlements_df.plot(figsize=[15,5], title='CME Copper futures front month settlement - weekly average');"
   ]
  },
  {
   "cell_type": "markdown",
   "metadata": {},
   "source": [
    "## RS Metrics and CME Copper Settlements Insights\n",
    " \n",
    "In this section we will bring the two data sets together and illustrate the relationship between RS Metric supply indicator of Total Area relative to CME Copper pricing for the first month. As a reminder, Total Area represents the amount of metal observed outside of metal processing facilities and we assume that increased metals detected at metal facilities should result in increase supply and that should have a downward pressure on Copper prices (and vice versa for less supply)"
   ]
  },
  {
   "cell_type": "code",
   "execution_count": 150,
   "metadata": {
    "collapsed": false
   },
   "outputs": [
    {
     "data": {
      "text/html": [
       "<div>\n",
       "<style scoped>\n",
       "    .dataframe tbody tr th:only-of-type {\n",
       "        vertical-align: middle;\n",
       "    }\n",
       "\n",
       "    .dataframe tbody tr th {\n",
       "        vertical-align: top;\n",
       "    }\n",
       "\n",
       "    .dataframe thead th {\n",
       "        text-align: right;\n",
       "    }\n",
       "</style>\n",
       "<table border=\"1\" class=\"dataframe\">\n",
       "  <thead>\n",
       "    <tr style=\"text-align: right;\">\n",
       "      <th></th>\n",
       "      <th>Tot.Area</th>\n",
       "      <th>copper 1st nb</th>\n",
       "    </tr>\n",
       "    <tr>\n",
       "      <th>ObservationDate</th>\n",
       "      <th></th>\n",
       "      <th></th>\n",
       "    </tr>\n",
       "  </thead>\n",
       "  <tbody>\n",
       "    <tr>\n",
       "      <th>2013-01-06</th>\n",
       "      <td>21549.230769</td>\n",
       "      <td>3.7155</td>\n",
       "    </tr>\n",
       "    <tr>\n",
       "      <th>2013-01-13</th>\n",
       "      <td>11711.444444</td>\n",
       "      <td>3.6767</td>\n",
       "    </tr>\n",
       "    <tr>\n",
       "      <th>2013-01-20</th>\n",
       "      <td>19983.000000</td>\n",
       "      <td>3.6438</td>\n",
       "    </tr>\n",
       "    <tr>\n",
       "      <th>2013-01-27</th>\n",
       "      <td>23015.666667</td>\n",
       "      <td>3.6795</td>\n",
       "    </tr>\n",
       "    <tr>\n",
       "      <th>2013-02-03</th>\n",
       "      <td>9360.000000</td>\n",
       "      <td>3.7239</td>\n",
       "    </tr>\n",
       "  </tbody>\n",
       "</table>\n",
       "</div>"
      ],
      "text/plain": [
       "                     Tot.Area  copper 1st nb\n",
       "ObservationDate                             \n",
       "2013-01-06       21549.230769         3.7155\n",
       "2013-01-13       11711.444444         3.6767\n",
       "2013-01-20       19983.000000         3.6438\n",
       "2013-01-27       23015.666667         3.6795\n",
       "2013-02-03        9360.000000         3.7239"
      ]
     },
     "execution_count": 150,
     "metadata": {},
     "output_type": "execute_result"
    }
   ],
   "source": [
    "# combined RS Metrics data and price data\n",
    "final_df  = pd.merge(rs_metrics_area_df, settlements_df,how='outer', left_index=True, right_index=True)\n",
    "# filling empty cells with the last available value\n",
    "final_df['Tot.Area'] = final_df['Tot.Area'].fillna(method='ffill')\n",
    "final_df.head()"
   ]
  },
  {
   "cell_type": "markdown",
   "metadata": {},
   "source": [
    "We will compare long-term rolling average (24 weeks) and short-term rolling average (11 weeks) in the analysis."
   ]
  },
  {
   "cell_type": "code",
   "execution_count": 154,
   "metadata": {
    "collapsed": true
   },
   "outputs": [],
   "source": [
    "# calculate 24 week rolling average\n",
    "final_df['long_term_avg'] = final_df['Tot.Area'].rolling(window=24, min_periods=1).mean()\n",
    "# calculate 11 week rolling average\n",
    "final_df['short_term_avg'] = final_df['Tot.Area'].rolling(window=11, min_periods=1).mean()\n",
    "# calculate the difference between short and long term average values.\n",
    "final_df['short-long'] = final_df['short_term_avg'] - final_df['long_term_avg']"
   ]
  },
  {
   "cell_type": "code",
   "execution_count": 155,
   "metadata": {
    "collapsed": true
   },
   "outputs": [],
   "source": [
    "#Set a threshold to ensure that crossover is reasonable occuring\n",
    "threshold = 0.03"
   ]
  },
  {
   "cell_type": "markdown",
   "metadata": {},
   "source": [
    "\n",
    "We will track what the copper futures price is going to be in 4 weeks when we have significant RS Metrics value changes(changed more than the threshold value) \n"
   ]
  },
  {
   "cell_type": "code",
   "execution_count": 159,
   "metadata": {
    "collapsed": true
   },
   "outputs": [],
   "source": [
    "# simulate tracking copper prices in 4 weeks forward by moving the fourth week value backwards to \n",
    "# the current RS Metric value.\n",
    "final_df['fprice'] = final_df['copper 1st nb'].shift(-4)\n",
    "final_df['fprice'] = final_df['fprice'].fillna(method='ffill')\n",
    "final_df['cprice'] = final_df['copper 1st nb'].fillna(method='ffill')\n",
    "\n",
    "#Caluculate Price Change for 4 weeks from the current date.\n",
    "final_df['p_change'] = final_df['fprice'] - final_df['cprice']\n",
    "\n",
    "#Determine direction of RS Moving Average value change.\n",
    "final_df['r_move'] = final_df['short-long']/abs(final_df['short-long'])\n",
    "final_df['p_move'] = final_df['p_change']/abs(final_df['p_change'])\n",
    "\n",
    "# returns 1 if price and rs data move to opposite directions\n",
    "final_df['check'] = np.where((final_df['r_move']*final_df['p_move'])>0,0,1)\n",
    "# returns 1 if short-term average moves more than threshold\n",
    "final_df['threshold'] = np.where( abs(final_df['short-long']) > (final_df['long_term_avg']*threshold) ,1,0)\n"
   ]
  },
  {
   "cell_type": "code",
   "execution_count": 161,
   "metadata": {
    "collapsed": false
   },
   "outputs": [
    {
     "data": {
      "text/html": [
       "<div>\n",
       "<style scoped>\n",
       "    .dataframe tbody tr th:only-of-type {\n",
       "        vertical-align: middle;\n",
       "    }\n",
       "\n",
       "    .dataframe tbody tr th {\n",
       "        vertical-align: top;\n",
       "    }\n",
       "\n",
       "    .dataframe thead th {\n",
       "        text-align: right;\n",
       "    }\n",
       "</style>\n",
       "<table border=\"1\" class=\"dataframe\">\n",
       "  <thead>\n",
       "    <tr style=\"text-align: right;\">\n",
       "      <th></th>\n",
       "      <th>Tot.Area</th>\n",
       "      <th>copper 1st nb</th>\n",
       "      <th>long_term_avg</th>\n",
       "      <th>short_term_avg</th>\n",
       "      <th>short-long</th>\n",
       "      <th>fprice</th>\n",
       "      <th>cprice</th>\n",
       "      <th>p_change</th>\n",
       "      <th>r_move</th>\n",
       "      <th>p_move</th>\n",
       "      <th>check</th>\n",
       "      <th>threshold</th>\n",
       "    </tr>\n",
       "    <tr>\n",
       "      <th>ObservationDate</th>\n",
       "      <th></th>\n",
       "      <th></th>\n",
       "      <th></th>\n",
       "      <th></th>\n",
       "      <th></th>\n",
       "      <th></th>\n",
       "      <th></th>\n",
       "      <th></th>\n",
       "      <th></th>\n",
       "      <th></th>\n",
       "      <th></th>\n",
       "      <th></th>\n",
       "    </tr>\n",
       "  </thead>\n",
       "  <tbody>\n",
       "    <tr>\n",
       "      <th>2013-01-06</th>\n",
       "      <td>21549.230769</td>\n",
       "      <td>3.7155</td>\n",
       "      <td>21549.230769</td>\n",
       "      <td>21549.230769</td>\n",
       "      <td>0.0</td>\n",
       "      <td>3.723900</td>\n",
       "      <td>3.7155</td>\n",
       "      <td>0.008400</td>\n",
       "      <td>NaN</td>\n",
       "      <td>1.0</td>\n",
       "      <td>1</td>\n",
       "      <td>0</td>\n",
       "    </tr>\n",
       "    <tr>\n",
       "      <th>2013-01-13</th>\n",
       "      <td>11711.444444</td>\n",
       "      <td>3.6767</td>\n",
       "      <td>16630.337607</td>\n",
       "      <td>16630.337607</td>\n",
       "      <td>0.0</td>\n",
       "      <td>3.753100</td>\n",
       "      <td>3.6767</td>\n",
       "      <td>0.076400</td>\n",
       "      <td>NaN</td>\n",
       "      <td>1.0</td>\n",
       "      <td>1</td>\n",
       "      <td>0</td>\n",
       "    </tr>\n",
       "    <tr>\n",
       "      <th>2013-01-20</th>\n",
       "      <td>19983.000000</td>\n",
       "      <td>3.6438</td>\n",
       "      <td>17747.891738</td>\n",
       "      <td>17747.891738</td>\n",
       "      <td>0.0</td>\n",
       "      <td>3.736700</td>\n",
       "      <td>3.6438</td>\n",
       "      <td>0.092900</td>\n",
       "      <td>NaN</td>\n",
       "      <td>1.0</td>\n",
       "      <td>1</td>\n",
       "      <td>0</td>\n",
       "    </tr>\n",
       "    <tr>\n",
       "      <th>2013-01-27</th>\n",
       "      <td>23015.666667</td>\n",
       "      <td>3.6795</td>\n",
       "      <td>19064.835470</td>\n",
       "      <td>19064.835470</td>\n",
       "      <td>0.0</td>\n",
       "      <td>3.585875</td>\n",
       "      <td>3.6795</td>\n",
       "      <td>-0.093625</td>\n",
       "      <td>NaN</td>\n",
       "      <td>-1.0</td>\n",
       "      <td>1</td>\n",
       "      <td>0</td>\n",
       "    </tr>\n",
       "    <tr>\n",
       "      <th>2013-02-03</th>\n",
       "      <td>9360.000000</td>\n",
       "      <td>3.7239</td>\n",
       "      <td>17123.868376</td>\n",
       "      <td>17123.868376</td>\n",
       "      <td>0.0</td>\n",
       "      <td>3.532700</td>\n",
       "      <td>3.7239</td>\n",
       "      <td>-0.191200</td>\n",
       "      <td>NaN</td>\n",
       "      <td>-1.0</td>\n",
       "      <td>1</td>\n",
       "      <td>0</td>\n",
       "    </tr>\n",
       "  </tbody>\n",
       "</table>\n",
       "</div>"
      ],
      "text/plain": [
       "                     Tot.Area  copper 1st nb  long_term_avg  short_term_avg  \\\n",
       "ObservationDate                                                               \n",
       "2013-01-06       21549.230769         3.7155   21549.230769    21549.230769   \n",
       "2013-01-13       11711.444444         3.6767   16630.337607    16630.337607   \n",
       "2013-01-20       19983.000000         3.6438   17747.891738    17747.891738   \n",
       "2013-01-27       23015.666667         3.6795   19064.835470    19064.835470   \n",
       "2013-02-03        9360.000000         3.7239   17123.868376    17123.868376   \n",
       "\n",
       "                 short-long    fprice  cprice  p_change  r_move  p_move  \\\n",
       "ObservationDate                                                           \n",
       "2013-01-06              0.0  3.723900  3.7155  0.008400     NaN     1.0   \n",
       "2013-01-13              0.0  3.753100  3.6767  0.076400     NaN     1.0   \n",
       "2013-01-20              0.0  3.736700  3.6438  0.092900     NaN     1.0   \n",
       "2013-01-27              0.0  3.585875  3.6795 -0.093625     NaN    -1.0   \n",
       "2013-02-03              0.0  3.532700  3.7239 -0.191200     NaN    -1.0   \n",
       "\n",
       "                 check  threshold  \n",
       "ObservationDate                    \n",
       "2013-01-06           1          0  \n",
       "2013-01-13           1          0  \n",
       "2013-01-20           1          0  \n",
       "2013-01-27           1          0  \n",
       "2013-02-03           1          0  "
      ]
     },
     "execution_count": 161,
     "metadata": {},
     "output_type": "execute_result"
    }
   ],
   "source": [
    "final_df.head()"
   ]
  },
  {
   "cell_type": "markdown",
   "metadata": {},
   "source": [
    "## Final Summary of Strategy Outcomes\n",
    "\n",
    " This is the simulated cross over strategy indicating when the Total Area is changing in significant amounts."
   ]
  },
  {
   "cell_type": "markdown",
   "metadata": {},
   "source": [
    "### Summary of Over Supply Strategy\n",
    "\n",
    "Counting days with short-term average higher than long-term average by more than threshold (3%).   This indicates that there is more in storage than the long term average."
   ]
  },
  {
   "cell_type": "code",
   "execution_count": 169,
   "metadata": {
    "collapsed": true
   },
   "outputs": [],
   "source": [
    "# filtering rows with 'short-term average was higher than long-term' & 'the change was greater than 3%'\n",
    "sel_join = final_df.loc[(final_df['r_move']==1) & (final_df['threshold']==1)]"
   ]
  },
  {
   "cell_type": "code",
   "execution_count": 170,
   "metadata": {
    "collapsed": false
   },
   "outputs": [
    {
     "data": {
      "text/plain": [
       "<matplotlib.axes._subplots.AxesSubplot at 0x11cce9b70>"
      ]
     },
     "execution_count": 170,
     "metadata": {},
     "output_type": "execute_result"
    },
    {
     "data": {
      "image/png": "[encoded data removed]",
      "text/plain": [
       "<Figure size 432x288 with 1 Axes>"
      ]
     },
     "metadata": {
      "needs_background": "light"
     },
     "output_type": "display_data"
    }
   ],
   "source": [
    "sns.distplot(sel_join['p_change'], bins=2, hist_kws={'range':(-1,1)})"
   ]
  },
  {
   "cell_type": "markdown",
   "metadata": {},
   "source": [
    "Distribution of price change when the filter above applied"
   ]
  },
  {
   "cell_type": "code",
   "execution_count": 171,
   "metadata": {
    "collapsed": false
   },
   "outputs": [
    {
     "data": {
      "text/plain": [
       "65"
      ]
     },
     "execution_count": 171,
     "metadata": {},
     "output_type": "execute_result"
    }
   ],
   "source": [
    "# count number of cases with price moved as expected (i.e. expect price to decrease from the short term oversupply)\n",
    "sum(n < 0 for n in sel_join['p_change'])"
   ]
  },
  {
   "cell_type": "code",
   "execution_count": 173,
   "metadata": {
    "collapsed": false
   },
   "outputs": [
    {
     "data": {
      "text/plain": [
       "35"
      ]
     },
     "execution_count": 173,
     "metadata": {},
     "output_type": "execute_result"
    }
   ],
   "source": [
    "# count number of cases with price didn't move as expected (i.e. price didn't decrease in the short term)\n",
    "sum(n > 0 for n in sel_join['p_change'])\n"
   ]
  },
  {
   "cell_type": "markdown",
   "metadata": {},
   "source": [
    "When short-term average is higher, supply incease is expected for the near futre which might lead to price drop in the futures market. In the test, 65 out of 100 shows price drop in 4 weeks as postulated."
   ]
  },
  {
   "cell_type": "markdown",
   "metadata": {},
   "source": [
    "### Summary of Under Supply Strategy\n",
    "\n",
    "Counting days with short-term average lower than long-term average by more than threshold(3%).  This indicates less supply being stored than long term average and might represent pressure for higher prices."
   ]
  },
  {
   "cell_type": "code",
   "execution_count": 176,
   "metadata": {
    "collapsed": true
   },
   "outputs": [],
   "source": [
    "# filtering rows with 'short-term average was lower than long-term' & 'the change was greater than 3%'\n",
    "sel_join = final_df.loc[(final_df['r_move']==-1) & (final_df['threshold']==1)]"
   ]
  },
  {
   "cell_type": "code",
   "execution_count": 177,
   "metadata": {
    "collapsed": false
   },
   "outputs": [
    {
     "data": {
      "image/png": "[encoded data removed]",
      "text/plain": [
       "<Figure size 432x288 with 1 Axes>"
      ]
     },
     "metadata": {
      "needs_background": "light"
     },
     "output_type": "display_data"
    }
   ],
   "source": [
    "sns.distplot(sel_join['p_change'], bins=2, hist_kws={'range':(-1,1)});"
   ]
  },
  {
   "cell_type": "code",
   "execution_count": 181,
   "metadata": {
    "collapsed": false
   },
   "outputs": [
    {
     "data": {
      "text/plain": [
       "71"
      ]
     },
     "execution_count": 181,
     "metadata": {},
     "output_type": "execute_result"
    }
   ],
   "source": [
    "# count number of cases with price moved as expected (i.e. expect price to increase from the short term undersupply)\n",
    "sum(n > 0 for n in sel_join['p_change'])"
   ]
  },
  {
   "cell_type": "code",
   "execution_count": 182,
   "metadata": {
    "collapsed": false
   },
   "outputs": [
    {
     "data": {
      "text/plain": [
       "41"
      ]
     },
     "execution_count": 182,
     "metadata": {},
     "output_type": "execute_result"
    }
   ],
   "source": [
    "# count number of cases with price didn't move as expected (i.e. price didn't increase in the short term)\n",
    "sum(n < 0 for n in sel_join['p_change'])"
   ]
  },
  {
   "cell_type": "markdown",
   "metadata": {},
   "source": [
    "When short-term average is lower, supply decrease is expected for the near futre which might lead to price increase in the futures market. In the test, 71 out of 112 shows price increase in 4 weeks as expected."
   ]
  },
  {
   "cell_type": "markdown",
   "metadata": {
    "collapsed": true
   },
   "source": [
    "## Conclusion\n",
    "\n",
    "In this analysis, we have tracked copper price changes in 4 weeks when RS Metrics short-term average was higher than long-term average and when it was lower. In both cases, the futures prices moved to the direction we expected based on RS Metrics data at 63-65% of the cases. This example was designed to be simple and straight forward indicating extensive room for additional analysis and understanding.  \n",
    "\n"
   ]
  },
  {
   "cell_type": "code",
   "execution_count": null,
   "metadata": {
    "collapsed": true
   },
   "outputs": [],
   "source": []
  }
 ],
 "metadata": {
  "kernelspec": {
   "display_name": "Python 2",
   "language": "python",
   "name": "python2"
  },
  "language_info": {
   "codemirror_mode": {
    "name": "ipython",
    "version": 2
   },
   "file_extension": ".py",
   "mimetype": "text/x-python",
   "name": "python",
   "nbconvert_exporter": "python",
   "pygments_lexer": "ipython2",
   "version": "2.7.12"
  }
 },
 "nbformat": 4,
 "nbformat_minor": 2
}
